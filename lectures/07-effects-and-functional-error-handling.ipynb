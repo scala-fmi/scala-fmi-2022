{
 "cells": [
  {
   "cell_type": "markdown",
   "metadata": {
    "slideshow": {
     "slide_type": "slide"
    }
   },
   "source": [
    "#  Algebra\n",
    "\n",
    "* Set of objects\n",
    "* Operations on those objects\n",
    "* Laws for those operations"
   ]
  },
  {
   "cell_type": "markdown",
   "metadata": {
    "slideshow": {
     "slide_type": "fragment"
    }
   },
   "source": [
    "* Boolean\n"
   ]
  },
  {
   "cell_type": "markdown",
   "metadata": {
    "slideshow": {
     "slide_type": "fragment"
    }
   },
   "source": [
    "  Complexity: 2\n"
   ]
  },
  {
   "cell_type": "markdown",
   "metadata": {
    "slideshow": {
     "slide_type": "fragment"
    }
   },
   "source": [
    "* Byte\n"
   ]
  },
  {
   "cell_type": "markdown",
   "metadata": {
    "slideshow": {
     "slide_type": "fragment"
    }
   },
   "source": [
    "  Complexity: 256\n"
   ]
  },
  {
   "cell_type": "markdown",
   "metadata": {
    "slideshow": {
     "slide_type": "slide"
    }
   },
   "source": [
    "#  Product type complexity\n",
    "\n",
    "* (Byte, Boolean)\n"
   ]
  },
  {
   "cell_type": "markdown",
   "metadata": {
    "slideshow": {
     "slide_type": "fragment"
    }
   },
   "source": [
    "  Complexity: 256 * 2 = 512\n"
   ]
  },
  {
   "cell_type": "markdown",
   "metadata": {
    "slideshow": {
     "slide_type": "fragment"
    }
   },
   "source": [
    "* (Boolean, Unit)\n"
   ]
  },
  {
   "cell_type": "markdown",
   "metadata": {
    "slideshow": {
     "slide_type": "fragment"
    }
   },
   "source": [
    "  Complexity: 2 * 1 = 2\n"
   ]
  },
  {
   "cell_type": "markdown",
   "metadata": {
    "slideshow": {
     "slide_type": "fragment"
    }
   },
   "source": [
    "* (String, Nothing)\n"
   ]
  },
  {
   "cell_type": "markdown",
   "metadata": {
    "slideshow": {
     "slide_type": "fragment"
    }
   },
   "source": [
    "  Complexity: many * 0 = 0\n"
   ]
  },
  {
   "cell_type": "markdown",
   "metadata": {
    "slideshow": {
     "slide_type": "slide"
    }
   },
   "source": [
    "#  Sum type complexity\n",
    "\n",
    "* Byte | Boolean\n"
   ]
  },
  {
   "cell_type": "markdown",
   "metadata": {
    "slideshow": {
     "slide_type": "fragment"
    }
   },
   "source": [
    "  Complexity: 256 + 2 = 258\n"
   ]
  },
  {
   "cell_type": "markdown",
   "metadata": {
    "slideshow": {
     "slide_type": "fragment"
    }
   },
   "source": [
    "* Boolean | Unit\n"
   ]
  },
  {
   "cell_type": "markdown",
   "metadata": {
    "slideshow": {
     "slide_type": "fragment"
    }
   },
   "source": [
    "  Complexity: 2 + 1 = 3\n"
   ]
  },
  {
   "cell_type": "markdown",
   "metadata": {
    "slideshow": {
     "slide_type": "fragment"
    }
   },
   "source": [
    "* Byte | Nothing\n"
   ]
  },
  {
   "cell_type": "markdown",
   "metadata": {
    "slideshow": {
     "slide_type": "fragment"
    }
   },
   "source": [
    "  Complexity: 256 + 0 = 256\n"
   ]
  },
  {
   "cell_type": "markdown",
   "metadata": {
    "slideshow": {
     "slide_type": "slide"
    }
   },
   "source": [
    "# Functions and ADTs\n",
    "\n"
   ]
  },
  {
   "cell_type": "code",
   "execution_count": null,
   "metadata": {
    "slideshow": {
     "slide_type": "fragment"
    }
   },
   "outputs": [],
   "source": [
    "def f1(b: Boolean): Boolean"
   ]
  },
  {
   "cell_type": "markdown",
   "metadata": {
    "slideshow": {
     "slide_type": "fragment"
    }
   },
   "source": [
    "Complexity: 4\n"
   ]
  },
  {
   "cell_type": "code",
   "execution_count": null,
   "metadata": {
    "slideshow": {
     "slide_type": "fragment"
    }
   },
   "outputs": [],
   "source": [
    "def f2(b: Option[Boolean]): Boolean\n"
   ]
  },
  {
   "cell_type": "markdown",
   "metadata": {
    "slideshow": {
     "slide_type": "fragment"
    }
   },
   "source": [
    "Complexity: 8\n",
    "\n"
   ]
  },
  {
   "cell_type": "markdown",
   "metadata": {
    "slideshow": {
     "slide_type": "fragment"
    }
   },
   "source": [
    "Functions have exponential complexity\n"
   ]
  },
  {
   "cell_type": "code",
   "execution_count": null,
   "metadata": {
    "slideshow": {
     "slide_type": "fragment"
    }
   },
   "outputs": [],
   "source": [
    "def f3(b: Byte): Boolean\n",
    "def f4(b: Boolean): Byte"
   ]
  },
  {
   "cell_type": "markdown",
   "metadata": {
    "slideshow": {
     "slide_type": "slide"
    }
   },
   "source": [
    "# Why exponential?\n",
    "\n",
    "f2 as a mapping between input and output values.\n",
    "\n",
    "\n",
    "Input  | Option | Some(true) | Some(false)\n",
    "-------|--------|------------|-----------\n",
    "Output |  false |      false |      false \n",
    "Output |  false |      false |       true \n",
    "Output |  false |       true |      false \n",
    "Output |  false |       true |       true \n",
    "Output |   true |      false |      false \n",
    "Output |   true |      false |       true \n",
    "Output |   true |       true |      false \n",
    "Output |   true |       true |       true\n"
   ]
  },
  {
   "cell_type": "markdown",
   "metadata": {
    "slideshow": {
     "slide_type": "slide"
    }
   },
   "source": [
    "#  Make illegal states unrepresentable\n",
    "\n",
    "* Use sum types instead of product types\n",
    "  where appropriate"
   ]
  },
  {
   "cell_type": "code",
   "execution_count": null,
   "metadata": {
    "slideshow": {
     "slide_type": "fragment"
    }
   },
   "outputs": [],
   "source": [
    "case class Route(started: Boolean, finished: Boolean)"
   ]
  },
  {
   "cell_type": "code",
   "execution_count": null,
   "metadata": {
    "slideshow": {
     "slide_type": "fragment"
    }
   },
   "outputs": [],
   "source": [
    "sealed trait RouteStatus\n",
    "case object Created extends RouteStatus\n",
    "case object Started extends RouteStatus\n",
    "case object Finised extends RouteStatus\n",
    "\n",
    "case class Route(status: RouteStatus)"
   ]
  },
  {
   "cell_type": "markdown",
   "metadata": {
    "slideshow": {
     "slide_type": "slide"
    }
   },
   "source": [
    "# Smart constructors"
   ]
  },
  {
   "cell_type": "code",
   "execution_count": null,
   "metadata": {
    "scrolled": true,
    "slideshow": {
     "slide_type": "fragment"
    }
   },
   "outputs": [],
   "source": [
    "case class Employee(name: String, age: Int)\n",
    "object Employee {\n",
    "  def apply(name: String, age: Int): Option[Employee] =\n",
    "    if (age >= 18) Some(new Employee(name, age)) else None\n",
    "}"
   ]
  },
  {
   "cell_type": "markdown",
   "metadata": {
    "slideshow": {
     "slide_type": "slide"
    }
   },
   "source": [
    "# From partial to total"
   ]
  },
  {
   "cell_type": "code",
   "execution_count": null,
   "metadata": {
    "slideshow": {
     "slide_type": "fragment"
    }
   },
   "outputs": [],
   "source": [
    "def parseInt(s: String): Option[Int] =\n",
    "  try {\n",
    "    Some(s.toInt)\n",
    "  } catch {\n",
    "    case e: NumberFormatException => None\n",
    "  }"
   ]
  },
  {
   "cell_type": "code",
   "execution_count": null,
   "metadata": {
    "slideshow": {
     "slide_type": "fragment"
    }
   },
   "outputs": [],
   "source": [
    "val reciprocal: PartialFunction[Int,Double] = {\n",
    "  case x if x != 0 => 1.toDouble / x\n",
    "}\n",
    "reciprocal(0)"
   ]
  },
  {
   "cell_type": "code",
   "execution_count": null,
   "metadata": {
    "slideshow": {
     "slide_type": "fragment"
    }
   },
   "outputs": [],
   "source": [
    "val f = reciprocal.lift\n",
    "f(0)"
   ]
  },
  {
   "cell_type": "markdown",
   "metadata": {
    "slideshow": {
     "slide_type": "slide"
    }
   },
   "source": [
    "# Replacing null"
   ]
  },
  {
   "cell_type": "code",
   "execution_count": null,
   "metadata": {
    "slideshow": {
     "slide_type": "fragment"
    }
   },
   "outputs": [],
   "source": [
    "val o = null\n",
    "if (o != null) {\n",
    "  o.method()\n",
    "  // ...\n",
    "}"
   ]
  },
  {
   "cell_type": "code",
   "execution_count": null,
   "metadata": {
    "slideshow": {
     "slide_type": "fragment"
    }
   },
   "outputs": [],
   "source": [
    "// DON'T DO THIS!!!\n",
    "if (o.isDefined) {\n",
    "  val v = o.get\n",
    "  // ...\n",
    "}"
   ]
  },
  {
   "cell_type": "code",
   "execution_count": null,
   "metadata": {
    "slideshow": {
     "slide_type": "fragment"
    }
   },
   "outputs": [],
   "source": [
    "o match {\n",
    "  case Some(i) => i\n",
    "  case None => 0\n",
    "}"
   ]
  },
  {
   "cell_type": "markdown",
   "metadata": {
    "slideshow": {
     "slide_type": "slide"
    }
   },
   "source": [
    "#  Exercise\n",
    "\n",
    "Substitute the match expressions with functions\n",
    "\n"
   ]
  },
  {
   "cell_type": "code",
   "execution_count": null,
   "metadata": {
    "slideshow": {
     "slide_type": "fragment"
    }
   },
   "outputs": [],
   "source": [
    "option match {\n",
    "  case None => {}\n",
    "  case Some(x) => foo(x)\n",
    "}"
   ]
  },
  {
   "cell_type": "markdown",
   "metadata": {
    "slideshow": {
     "slide_type": "fragment"
    }
   },
   "source": [
    "\n",
    "*Type*: Unit\n",
    "\n"
   ]
  },
  {
   "cell_type": "code",
   "execution_count": null,
   "metadata": {
    "slideshow": {
     "slide_type": "fragment"
    }
   },
   "outputs": [],
   "source": [
    "option.foreach(foo)"
   ]
  },
  {
   "cell_type": "markdown",
   "metadata": {
    "slideshow": {
     "slide_type": "slide"
    }
   },
   "source": [
    "#  Exercise\n",
    "\n",
    "Substitute the match expressions with functions\n",
    "\n"
   ]
  },
  {
   "cell_type": "code",
   "execution_count": null,
   "metadata": {
    "slideshow": {
     "slide_type": "fragment"
    }
   },
   "outputs": [],
   "source": [
    "option match {\n",
    "  case None => Nil\n",
    "  case Some(x) => x :: Nil\n",
    "}"
   ]
  },
  {
   "cell_type": "markdown",
   "metadata": {
    "slideshow": {
     "slide_type": "fragment"
    }
   },
   "source": [
    "\n",
    "*Type*: List\n",
    "\n"
   ]
  },
  {
   "cell_type": "code",
   "execution_count": null,
   "metadata": {
    "slideshow": {
     "slide_type": "fragment"
    }
   },
   "outputs": [],
   "source": [
    "option.toList"
   ]
  },
  {
   "cell_type": "markdown",
   "metadata": {
    "slideshow": {
     "slide_type": "slide"
    }
   },
   "source": [
    "#  Exercise\n",
    "\n",
    "Substitute the match expressions with functions\n",
    "\n"
   ]
  },
  {
   "cell_type": "code",
   "execution_count": null,
   "metadata": {
    "slideshow": {
     "slide_type": "fragment"
    }
   },
   "outputs": [],
   "source": [
    "option match {\n",
    "  case None => false\n",
    "  case Some(_) => true\n",
    "}"
   ]
  },
  {
   "cell_type": "markdown",
   "metadata": {
    "slideshow": {
     "slide_type": "fragment"
    }
   },
   "source": [
    "*Type*: Boolean\n"
   ]
  },
  {
   "cell_type": "code",
   "execution_count": null,
   "metadata": {
    "slideshow": {
     "slide_type": "fragment"
    }
   },
   "outputs": [],
   "source": [
    "option.isDefined"
   ]
  },
  {
   "cell_type": "markdown",
   "metadata": {
    "slideshow": {
     "slide_type": "slide"
    }
   },
   "source": [
    "#  Exercise\n",
    "\n",
    "Substitute the match expressions with functions\n",
    "\n"
   ]
  },
  {
   "cell_type": "code",
   "execution_count": null,
   "metadata": {
    "slideshow": {
     "slide_type": "fragment"
    }
   },
   "outputs": [],
   "source": [
    "option match {\n",
    "  case None => true\n",
    "  case Some(_) => false\n",
    "}"
   ]
  },
  {
   "cell_type": "markdown",
   "metadata": {
    "slideshow": {
     "slide_type": "fragment"
    }
   },
   "source": [
    "\n",
    "*Type*: Boolean\n",
    "\n"
   ]
  },
  {
   "cell_type": "code",
   "execution_count": null,
   "metadata": {
    "slideshow": {
     "slide_type": "fragment"
    }
   },
   "outputs": [],
   "source": [
    "option.isEmpty"
   ]
  },
  {
   "cell_type": "markdown",
   "metadata": {
    "slideshow": {
     "slide_type": "slide"
    }
   },
   "source": [
    "#  Exercise\n",
    "\n",
    "Substitute the match expressions with functions\n",
    "\n"
   ]
  },
  {
   "cell_type": "code",
   "execution_count": null,
   "metadata": {
    "slideshow": {
     "slide_type": "fragment"
    }
   },
   "outputs": [],
   "source": [
    "option match {\n",
    "  case None => true\n",
    "  case Some(x) => foo(x)\n",
    "}"
   ]
  },
  {
   "cell_type": "markdown",
   "metadata": {
    "slideshow": {
     "slide_type": "fragment"
    }
   },
   "source": [
    "\n",
    "*Type*: Boolean\n",
    "\n"
   ]
  },
  {
   "cell_type": "code",
   "execution_count": null,
   "metadata": {
    "slideshow": {
     "slide_type": "fragment"
    }
   },
   "outputs": [],
   "source": [
    "option.forall(foo)"
   ]
  },
  {
   "cell_type": "markdown",
   "metadata": {
    "slideshow": {
     "slide_type": "slide"
    }
   },
   "source": [
    "#  Exercise\n",
    "\n",
    "Substitute the match expressions with functions\n",
    "\n"
   ]
  },
  {
   "cell_type": "code",
   "execution_count": null,
   "metadata": {
    "slideshow": {
     "slide_type": "fragment"
    }
   },
   "outputs": [],
   "source": [
    "option match {\n",
    "  case None => false\n",
    "  case Some(x) => foo(x)\n",
    "}"
   ]
  },
  {
   "cell_type": "markdown",
   "metadata": {
    "slideshow": {
     "slide_type": "fragment"
    }
   },
   "source": [
    "\n",
    "*Type*: Boolean\n",
    "\n"
   ]
  },
  {
   "cell_type": "code",
   "execution_count": null,
   "metadata": {
    "slideshow": {
     "slide_type": "fragment"
    }
   },
   "outputs": [],
   "source": [
    "option.exists(foo)"
   ]
  },
  {
   "cell_type": "markdown",
   "metadata": {
    "slideshow": {
     "slide_type": "slide"
    }
   },
   "source": [
    "#  Exercise\n",
    "\n",
    "Substitute the match expressions with functions\n",
    "\n"
   ]
  },
  {
   "cell_type": "code",
   "execution_count": null,
   "metadata": {
    "slideshow": {
     "slide_type": "fragment"
    }
   },
   "outputs": [],
   "source": [
    "option match {\n",
    "  case None => None\n",
    "  case Some(x) => Some(foo(x))\n",
    "}"
   ]
  },
  {
   "cell_type": "markdown",
   "metadata": {
    "slideshow": {
     "slide_type": "fragment"
    }
   },
   "source": [
    "\n",
    "*Type*: Option\n",
    "\n"
   ]
  },
  {
   "cell_type": "code",
   "execution_count": null,
   "metadata": {
    "slideshow": {
     "slide_type": "fragment"
    }
   },
   "outputs": [],
   "source": [
    "option.map(foo)"
   ]
  },
  {
   "cell_type": "markdown",
   "metadata": {
    "slideshow": {
     "slide_type": "slide"
    }
   },
   "source": [
    "#  Exercise\n",
    "\n",
    "Substitute the match expressions with functions\n",
    "\n"
   ]
  },
  {
   "cell_type": "code",
   "execution_count": null,
   "metadata": {
    "slideshow": {
     "slide_type": "fragment"
    }
   },
   "outputs": [],
   "source": [
    "option match {\n",
    "  case None => None\n",
    "  case Some(x) => foo(x)\n",
    "}"
   ]
  },
  {
   "cell_type": "markdown",
   "metadata": {
    "slideshow": {
     "slide_type": "fragment"
    }
   },
   "source": [
    "\n",
    "*Type*: Option\n",
    "\n"
   ]
  },
  {
   "cell_type": "code",
   "execution_count": null,
   "metadata": {
    "slideshow": {
     "slide_type": "fragment"
    }
   },
   "outputs": [],
   "source": [
    "option.flatMap(foo)"
   ]
  },
  {
   "cell_type": "markdown",
   "metadata": {
    "slideshow": {
     "slide_type": "slide"
    }
   },
   "source": [
    "#  Exercise\n",
    "\n",
    "Substitute the match expressions with functions\n",
    "\n"
   ]
  },
  {
   "cell_type": "code",
   "execution_count": null,
   "metadata": {
    "slideshow": {
     "slide_type": "fragment"
    }
   },
   "outputs": [],
   "source": [
    "option match {\n",
    "  case None => None\n",
    "  case Some(x) => x\n",
    "}"
   ]
  },
  {
   "cell_type": "markdown",
   "metadata": {
    "slideshow": {
     "slide_type": "fragment"
    }
   },
   "source": [
    "\n",
    "*Type*: Option\n",
    "\n"
   ]
  },
  {
   "cell_type": "code",
   "execution_count": null,
   "metadata": {
    "slideshow": {
     "slide_type": "fragment"
    }
   },
   "outputs": [],
   "source": [
    "option.flatten"
   ]
  },
  {
   "cell_type": "markdown",
   "metadata": {
    "slideshow": {
     "slide_type": "slide"
    }
   },
   "source": [
    "#  Exercise\n",
    "\n",
    "Substitute the match expressions with functions\n",
    "\n"
   ]
  },
  {
   "cell_type": "code",
   "execution_count": null,
   "metadata": {
    "slideshow": {
     "slide_type": "fragment"
    }
   },
   "outputs": [],
   "source": [
    "option match {\n",
    "  case None => foo\n",
    "  case Some(x) => Some(x)\n",
    "}"
   ]
  },
  {
   "cell_type": "markdown",
   "metadata": {
    "slideshow": {
     "slide_type": "fragment"
    }
   },
   "source": [
    "\n",
    "*Type*: Option\n",
    "\n"
   ]
  },
  {
   "cell_type": "code",
   "execution_count": null,
   "metadata": {
    "slideshow": {
     "slide_type": "fragment"
    }
   },
   "outputs": [],
   "source": [
    "option.orElse(foo)"
   ]
  },
  {
   "cell_type": "markdown",
   "metadata": {
    "slideshow": {
     "slide_type": "slide"
    }
   },
   "source": [
    "#  Exercise\n",
    "\n",
    "Substitute the match expressions with functions\n",
    "\n"
   ]
  },
  {
   "cell_type": "code",
   "execution_count": null,
   "metadata": {
    "slideshow": {
     "slide_type": "fragment"
    }
   },
   "outputs": [],
   "source": [
    "option match {\n",
    "  case None => foo\n",
    "  case Some(x) => x\n",
    "}"
   ]
  },
  {
   "cell_type": "markdown",
   "metadata": {
    "slideshow": {
     "slide_type": "fragment"
    }
   },
   "source": [
    "\n",
    "*Type*: type of foo/x\n",
    "\n"
   ]
  },
  {
   "cell_type": "code",
   "execution_count": null,
   "metadata": {
    "slideshow": {
     "slide_type": "fragment"
    }
   },
   "outputs": [],
   "source": [
    "option.getOrElse(foo)"
   ]
  },
  {
   "cell_type": "markdown",
   "metadata": {
    "slideshow": {
     "slide_type": "slide"
    }
   },
   "source": [
    "# Extractors"
   ]
  },
  {
   "cell_type": "code",
   "execution_count": null,
   "metadata": {
    "slideshow": {
     "slide_type": "fragment"
    }
   },
   "outputs": [],
   "source": [
    "object Email {\n",
    "  def unapply(str: String): Option[(String, String)] = {\n",
    "    val parts = str.split(\"@\")\n",
    "    if (parts.length == 2)\n",
    "      Some((parts(0), parts(1)))\n",
    "    else None\n",
    "  }\n",
    "}\n",
    "val Email(user, domain) = \"zdravko@fmi.uni-sofia.bg\"\n",
    "\"zdravko@fmi.uni-sofia.bg\" match {\n",
    "    case Email(user, _) => println(user + \" logged in\")\n",
    "}"
   ]
  },
  {
   "cell_type": "markdown",
   "metadata": {
    "slideshow": {
     "slide_type": "slide"
    }
   },
   "source": [
    "# Seq extractors"
   ]
  },
  {
   "cell_type": "code",
   "execution_count": null,
   "metadata": {
    "slideshow": {
     "slide_type": "fragment"
    }
   },
   "outputs": [],
   "source": [
    "object Words {\n",
    "  def unapplySeq(str: String): Option[Seq[String]] =\n",
    "    Some(str.split(\" \").toSeq)\n",
    "}\n",
    "val phrase = \"the quick brown fox\"\n",
    "val Words(first, second, _*) = phrase"
   ]
  },
  {
   "cell_type": "markdown",
   "metadata": {
    "slideshow": {
     "slide_type": "slide"
    }
   },
   "source": [
    "# Regex"
   ]
  },
  {
   "cell_type": "code",
   "execution_count": null,
   "metadata": {
    "slideshow": {
     "slide_type": "fragment"
    }
   },
   "outputs": [],
   "source": [
    "import scala.util.matching.Regex\n",
    "val ISODate = new Regex(\"\"\"(\\d{4})-(\\d{2})-(\\d{2})\"\"\")\n",
    "val ISODate(year, month, day) = \"2022-04-13\""
   ]
  },
  {
   "cell_type": "markdown",
   "metadata": {
    "slideshow": {
     "slide_type": "slide"
    }
   },
   "source": [
    "# Scala- Functional Effects\n",
    "\n",
    "##### Vassil Dichev\n",
    "\n",
    "14.04.2021\n"
   ]
  },
  {
   "cell_type": "markdown",
   "metadata": {
    "slideshow": {
     "slide_type": "slide"
    }
   },
   "source": [
    "# Effects\n",
    "\n",
    "* Partiality\n",
    "* Exceptions/errors\n",
    "* Nondeterminism\n",
    "* Dependency injection/configuration\n",
    "* Logging\n",
    "* Mutable state\n",
    "* Input/output\n",
    "* Asynchronicity\n"
   ]
  },
  {
   "attachments": {
    "rob_norris.jpg": {
     "image/jpeg": "[encoded data removed]"
    }
   },
   "cell_type": "markdown",
   "metadata": {
    "slideshow": {
     "slide_type": "slide"
    }
   },
   "source": [
    "# Effects are good, side effects are bugs!\n",
    "![rob_norris.jpg](attachment:rob_norris.jpg)"
   ]
  },
  {
   "cell_type": "markdown",
   "metadata": {
    "slideshow": {
     "slide_type": "slide"
    }
   },
   "source": [
    "# Effects\n",
    "\n",
    "* Partiality- Option\n"
   ]
  },
  {
   "cell_type": "markdown",
   "metadata": {
    "slideshow": {
     "slide_type": "fragment"
    }
   },
   "source": [
    "* Exceptions/errors- Try/Either\n"
   ]
  },
  {
   "cell_type": "markdown",
   "metadata": {
    "slideshow": {
     "slide_type": "fragment"
    }
   },
   "source": [
    "* Nondeterminism- List\n"
   ]
  },
  {
   "cell_type": "markdown",
   "metadata": {
    "slideshow": {
     "slide_type": "fragment"
    }
   },
   "source": [
    "* Dependency injection- Reader\n",
    "* Logging- Writer\n",
    "* Mutable state- State\n"
   ]
  },
  {
   "cell_type": "markdown",
   "metadata": {
    "slideshow": {
     "slide_type": "fragment"
    }
   },
   "source": [
    "* Input/Output- IO\n"
   ]
  },
  {
   "cell_type": "markdown",
   "metadata": {
    "slideshow": {
     "slide_type": "fragment"
    }
   },
   "source": [
    "* Asynchronicity- Future\n"
   ]
  },
  {
   "cell_type": "markdown",
   "metadata": {
    "slideshow": {
     "slide_type": "slide"
    }
   },
   "source": [
    "#  Type aliases\n",
    "\n"
   ]
  },
  {
   "cell_type": "code",
   "execution_count": null,
   "metadata": {
    "slideshow": {
     "slide_type": "fragment"
    }
   },
   "outputs": [],
   "source": [
    "type Params = Map[String,String]"
   ]
  },
  {
   "cell_type": "markdown",
   "metadata": {
    "slideshow": {
     "slide_type": "slide"
    }
   },
   "source": [
    "# Partiality and exceptions\n",
    "\n"
   ]
  },
  {
   "cell_type": "code",
   "execution_count": null,
   "metadata": {
    "slideshow": {
     "slide_type": "fragment"
    }
   },
   "outputs": [],
   "source": [
    "def extract(params: Params) = params(\"num\")\n",
    "def parse(s: String) = s.toInt\n",
    "val reciprocal: PartialFunction[Int,Double] = {\n",
    "  case x if x != 0 => 1.toDouble / x\n",
    "}\n",
    "val process = extract _ andThen parse andThen reciprocal\n",
    "process(Map(\"num\" -> \"0\"))"
   ]
  },
  {
   "cell_type": "markdown",
   "metadata": {
    "slideshow": {
     "slide_type": "slide"
    }
   },
   "source": [
    "#  Why even try?\n",
    "\n"
   ]
  },
  {
   "cell_type": "code",
   "execution_count": null,
   "metadata": {
    "slideshow": {
     "slide_type": "fragment"
    }
   },
   "outputs": [],
   "source": [
    "try {\n",
    "    try {\n",
    "    } finally {\n",
    "    }\n",
    "    try {\n",
    "        try {\n",
    "        } finally {\n",
    "        }\n",
    "    } finally {\n",
    "    }\n",
    "} finally {\n",
    "    try {\n",
    "    } finally {\n",
    "    }\n",
    "}"
   ]
  },
  {
   "attachments": {
    "tpolecat_facepalm.jpg": {
     "image/jpeg": "[encoded data removed]"
    }
   },
   "cell_type": "markdown",
   "metadata": {
    "slideshow": {
     "slide_type": "slide"
    }
   },
   "source": [
    "![tpolecat_facepalm.jpg](attachment:tpolecat_facepalm.jpg)"
   ]
  },
  {
   "cell_type": "markdown",
   "metadata": {
    "slideshow": {
     "slide_type": "slide"
    }
   },
   "source": [
    "# Exceptional problems\n",
    "\n",
    "* No static guarantees\n"
   ]
  },
  {
   "cell_type": "markdown",
   "metadata": {
    "slideshow": {
     "slide_type": "fragment"
    }
   },
   "source": [
    "* Hard to compose\n"
   ]
  },
  {
   "cell_type": "markdown",
   "metadata": {
    "slideshow": {
     "slide_type": "fragment"
    }
   },
   "source": [
    "* Coupled error handling\n"
   ]
  },
  {
   "cell_type": "markdown",
   "metadata": {
    "slideshow": {
     "slide_type": "fragment"
    }
   },
   "source": [
    "* Tied to the current thread\n"
   ]
  },
  {
   "cell_type": "markdown",
   "metadata": {
    "slideshow": {
     "slide_type": "fragment"
    }
   },
   "source": [
    "* Not a value\n"
   ]
  },
  {
   "cell_type": "markdown",
   "metadata": {
    "slideshow": {
     "slide_type": "slide"
    }
   },
   "source": [
    "# Option\n",
    "\n"
   ]
  },
  {
   "cell_type": "code",
   "execution_count": null,
   "metadata": {
    "slideshow": {
     "slide_type": "fragment"
    }
   },
   "outputs": [],
   "source": [
    "def extractMaybe(params: Params) = params.get(\"num\")\n",
    "def parseMaybe(s: String) = try {\n",
    "  Some(s.toInt)\n",
    "} catch {\n",
    "  case e: NumberFormatException => None\n",
    "}\n",
    "val reciprocalMaybe = reciprocal.lift\n",
    "extractMaybe(_).andThen(parseMaybe)"
   ]
  },
  {
   "cell_type": "code",
   "execution_count": null,
   "metadata": {
    "slideshow": {
     "slide_type": "fragment"
    }
   },
   "outputs": [],
   "source": [
    "def processMap(params: Params) =\n",
    "  (extractMaybe(params) map parseMaybe)"
   ]
  },
  {
   "cell_type": "markdown",
   "metadata": {
    "slideshow": {
     "slide_type": "slide"
    }
   },
   "source": [
    "# Combining options\n",
    "\n"
   ]
  },
  {
   "cell_type": "code",
   "execution_count": null,
   "metadata": {
    "slideshow": {
     "slide_type": "fragment"
    }
   },
   "outputs": [],
   "source": [
    "def processMaybe(params: Params) =\n",
    "  extractMaybe(params)\n",
    "  .flatMap(parseMaybe)\n",
    "  .flatMap(reciprocalMaybe)"
   ]
  },
  {
   "cell_type": "code",
   "execution_count": null,
   "metadata": {
    "slideshow": {
     "slide_type": "fragment"
    }
   },
   "outputs": [],
   "source": [
    "def processMaybe(params: Params) = for {\n",
    "  param <- extractMaybe(params)\n",
    "  num <- parseMaybe(param)\n",
    "  r <- reciprocalMaybe(num)\n",
    "} yield r\n",
    "processMaybe(Map(\"n\"->\"3\"))\n",
    "processMaybe(Map(\"num\"->\"one\"))\n",
    "processMaybe(Map(\"num\"->\"0\"))\n",
    "processMaybe(Map(\"num\"->\"3\"))"
   ]
  },
  {
   "cell_type": "markdown",
   "metadata": {
    "slideshow": {
     "slide_type": "slide"
    }
   },
   "source": [
    "# Try\n",
    "\n"
   ]
  },
  {
   "cell_type": "code",
   "execution_count": null,
   "metadata": {
    "slideshow": {
     "slide_type": "fragment"
    }
   },
   "outputs": [],
   "source": [
    "import scala.util.{Try,Success,Failure}\n",
    "val s = Success(1)\n",
    "val f = Failure(new RuntimeException(\"Something went wrong\"))"
   ]
  },
  {
   "cell_type": "code",
   "execution_count": null,
   "metadata": {
    "slideshow": {
     "slide_type": "fragment"
    }
   },
   "outputs": [],
   "source": [
    "def extractTry(params: Params) = Try(params(\"num\"))\n",
    "def parseTry(s: String) = Try(s.toInt)\n",
    "def reciprocalTry(i: Int) = Try(reciprocal(i))"
   ]
  },
  {
   "cell_type": "markdown",
   "metadata": {
    "slideshow": {
     "slide_type": "slide"
    }
   },
   "source": [
    "# Failure is not an Option\n",
    "\n"
   ]
  },
  {
   "cell_type": "code",
   "execution_count": null,
   "metadata": {
    "slideshow": {
     "slide_type": "fragment"
    }
   },
   "outputs": [],
   "source": [
    "def processTry(params: Params) = for {\n",
    "  param <- extractTry(params)\n",
    "  num <- parseTry(param)\n",
    "  r <- reciprocalTry(num)\n",
    "} yield r\n",
    "processTry(Map.empty)\n",
    "processTry(Map(\"num\"->\"2\"))\n",
    "processTry(Map(\"num\"->\"two\"))\n",
    "processTry(Map(\"num\"->\"0\"))"
   ]
  },
  {
   "cell_type": "markdown",
   "metadata": {
    "slideshow": {
     "slide_type": "slide"
    }
   },
   "source": [
    "#  Either"
   ]
  },
  {
   "cell_type": "code",
   "execution_count": null,
   "metadata": {
    "slideshow": {
     "slide_type": "fragment"
    }
   },
   "outputs": [],
   "source": [
    "val right: Either[String,Int] = Right(1)\n",
    "val left : Either[String,Int] = Left(\"Something went wrong\")"
   ]
  },
  {
   "cell_type": "markdown",
   "metadata": {
    "slideshow": {
     "slide_type": "fragment"
    }
   },
   "source": [
    "> Either is what's right or whatever's left\n",
    ">\n",
    "> *Some very clever person*"
   ]
  },
  {
   "cell_type": "code",
   "execution_count": null,
   "metadata": {
    "slideshow": {
     "slide_type": "fragment"
    }
   },
   "outputs": [],
   "source": [
    "val o1: Option[Int] = Some(1)\n",
    "val o2: Option[Int] = None\n",
    "o2.toRight(\"Error message\")"
   ]
  },
  {
   "cell_type": "code",
   "execution_count": null,
   "metadata": {
    "slideshow": {
     "slide_type": "fragment"
    }
   },
   "outputs": [],
   "source": [
    "o2.toRight(\"Error message\")"
   ]
  },
  {
   "cell_type": "markdown",
   "metadata": {
    "slideshow": {
     "slide_type": "slide"
    }
   },
   "source": [
    "# Modeling errors\n",
    "\n"
   ]
  },
  {
   "cell_type": "code",
   "execution_count": null,
   "metadata": {
    "slideshow": {
     "slide_type": "fragment"
    }
   },
   "outputs": [],
   "source": [
    "sealed trait ProcessingError extends Product with Serializable\n",
    "case class KeyNotFound(key: String) extends ProcessingError\n",
    "case class NotNumeric(s: String) extends ProcessingError\n",
    "case object DivisionByZero extends ProcessingError"
   ]
  },
  {
   "cell_type": "code",
   "execution_count": null,
   "metadata": {
    "slideshow": {
     "slide_type": "fragment"
    }
   },
   "outputs": [],
   "source": [
    "def processEither(params: Params) = for {\n",
    "  param <- extractMaybe(params) toRight KeyNotFound(\"num\")\n",
    "  num <- parseMaybe(param) toRight NotNumeric(param)\n",
    "  r <- reciprocalMaybe(num) toRight DivisionByZero\n",
    "} yield r\n",
    "processEither(Map(\"numero\"->\"3\"))\n",
    "processEither(Map(\"num\"->\"0\"))\n",
    "processEither(Map(\"num\"->\"not a number\"))\n",
    "processEither(Map(\"num\"->\"4\"))"
   ]
  },
  {
   "cell_type": "markdown",
   "metadata": {
    "slideshow": {
     "slide_type": "slide"
    }
   },
   "source": [
    "#  IO\n",
    "\n"
   ]
  },
  {
   "cell_type": "code",
   "execution_count": null,
   "metadata": {
    "slideshow": {
     "slide_type": "fragment"
    }
   },
   "outputs": [],
   "source": [
    "import scala.io.StdIn._\n",
    "case class IO[A](val unsafeRun: () => A)\n",
    "object Console {\n",
    "  def putStrLn(line: String): IO[Unit] = IO(() => println(line))\n",
    "  def getStrLn: IO[String] = IO(() => readLine())\n",
    "}\n",
    "import Console._\n",
    "Console.putStrLn(\"Hey\")\n",
    "Console.getStrLn"
   ]
  },
  {
   "cell_type": "code",
   "execution_count": null,
   "metadata": {
    "slideshow": {
     "slide_type": "fragment"
    }
   },
   "outputs": [],
   "source": [
    "val run = putStrLn(\"Hello\")\n",
    "(run, run)"
   ]
  },
  {
   "cell_type": "code",
   "execution_count": null,
   "metadata": {
    "slideshow": {
     "slide_type": "fragment"
    }
   },
   "outputs": [],
   "source": [
    "(putStrLn(\"Hello\"), putStrLn(\"Hello\"))\n",
    "run.unsafeRun()"
   ]
  },
  {
   "cell_type": "markdown",
   "metadata": {
    "slideshow": {
     "slide_type": "slide"
    }
   },
   "source": [
    "#  IO with map\n",
    "\n"
   ]
  },
  {
   "cell_type": "code",
   "execution_count": null,
   "metadata": {
    "slideshow": {
     "slide_type": "fragment"
    }
   },
   "outputs": [],
   "source": [
    "case class IO[A](val unsafeRun: () => A) {\n",
    "  def map[B](f: A => B) = IO(() => f(this.unsafeRun()))\n",
    "}\n",
    "object Console {\n",
    "  def putStrLn(line: String): IO[Unit] = IO(() => println(line))\n",
    "  def getStrLn: IO[String] = IO(() => readLine())\n",
    "}\n",
    "import Console._\n",
    "val readMsg = Console.getStrLn.map(_ + \"!!!\")"
   ]
  },
  {
   "cell_type": "markdown",
   "metadata": {
    "slideshow": {
     "slide_type": "slide"
    }
   },
   "source": [
    "#  IO with flatMap\n",
    "\n"
   ]
  },
  {
   "cell_type": "code",
   "execution_count": null,
   "metadata": {
    "slideshow": {
     "slide_type": "fragment"
    }
   },
   "outputs": [],
   "source": [
    "case class IO[A](val unsafeRun: () => A) {\n",
    "  def map[B](f: A => B) = IO(() => f(this.unsafeRun()))\n",
    "  def flatMap[B](f: A => IO[B]): IO[B] =\n",
    "    IO(() => f(this.unsafeRun()).unsafeRun())\n",
    "}\n",
    "object Console {\n",
    "  def putStrLn(line: String): IO[Unit] = IO(() => println(line))\n",
    "  def getStrLn: IO[String] = IO(() => readLine())\n",
    "}\n",
    "import Console._"
   ]
  },
  {
   "cell_type": "markdown",
   "metadata": {
    "slideshow": {
     "slide_type": "slide"
    }
   },
   "source": [
    "#  IO in for comprehensions\n",
    "\n"
   ]
  },
  {
   "cell_type": "code",
   "execution_count": null,
   "metadata": {
    "slideshow": {
     "slide_type": "fragment"
    }
   },
   "outputs": [],
   "source": [
    "val program = for {\n",
    "  _     <- putStrLn(\"What is your name?\")\n",
    "  name  <- getStrLn\n",
    "  _     <- putStrLn(\"Hello, \" + name + \", welcome!\")\n",
    "} yield ()\n",
    "program.unsafeRun()"
   ]
  },
  {
   "cell_type": "markdown",
   "metadata": {
    "slideshow": {
     "slide_type": "slide"
    }
   },
   "source": [
    "# Advantages of IO\n",
    "\n",
    "* It's a value- can combine, optimize, etc.\n"
   ]
  },
  {
   "cell_type": "markdown",
   "metadata": {
    "slideshow": {
     "slide_type": "fragment"
    }
   },
   "source": [
    "* Asynchronicity\n"
   ]
  },
  {
   "cell_type": "markdown",
   "metadata": {
    "slideshow": {
     "slide_type": "fragment"
    }
   },
   "source": [
    "* Cancellation\n"
   ]
  },
  {
   "cell_type": "markdown",
   "metadata": {
    "slideshow": {
     "slide_type": "fragment"
    }
   },
   "source": [
    "* Scheduling and retrying\n"
   ]
  },
  {
   "cell_type": "markdown",
   "metadata": {
    "slideshow": {
     "slide_type": "fragment"
    }
   },
   "source": [
    "* Test and production instances\n"
   ]
  },
  {
   "cell_type": "markdown",
   "metadata": {
    "slideshow": {
     "slide_type": "fragment"
    }
   },
   "source": [
    "* Different frontends\n"
   ]
  },
  {
   "cell_type": "code",
   "execution_count": null,
   "metadata": {
    "slideshow": {
     "slide_type": "skip"
    }
   },
   "outputs": [],
   "source": [
    "import $ivy.`org.typelevel::cats-core:2.4.1`"
   ]
  },
  {
   "cell_type": "code",
   "execution_count": null,
   "metadata": {
    "slideshow": {
     "slide_type": "slide"
    }
   },
   "outputs": [],
   "source": [
    "import concurrent.Future\n",
    "\n",
    "def extractFutureEither(params: Params): Future[Either[ProcessingError,String]] =\n",
    "  Future.successful(extractMaybe(params) toRight KeyNotFound(\"num\"))\n",
    "\n",
    "def parseFutureEither(param: String): Future[Either[ProcessingError,Int]] =\n",
    "  Future.successful(parseMaybe(param) toRight NotNumeric(param))\n",
    "\n",
    "def reciprocalFutureEither(num: Int): Future[Either[ProcessingError,Double]] =\n",
    "  Future.successful(reciprocalMaybe(num) toRight DivisionByZero)"
   ]
  },
  {
   "cell_type": "code",
   "execution_count": null,
   "metadata": {
    "slideshow": {
     "slide_type": "fragment"
    }
   },
   "outputs": [],
   "source": [
    "import concurrent.ExecutionContext.Implicits.global\n",
    "\n",
    "def processFutureEither(params: Params) = for {\n",
    "  paramEither <- extractFutureEither(params)\n",
    "  numEither <- paramEither match {\n",
    "    case Right(param) => parseFutureEither(param)\n",
    "    case l @ Left(_) => Future.successful(l)\n",
    "  }\n",
    "  rEither <- numEither match {\n",
    "    case Right(num: Int) => reciprocalFutureEither(num)\n",
    "    case l @ Left(_) => Future.successful(l)\n",
    "  }\n",
    "} yield rEither"
   ]
  },
  {
   "cell_type": "code",
   "execution_count": null,
   "metadata": {
    "slideshow": {
     "slide_type": "fragment"
    }
   },
   "outputs": [],
   "source": [
    "processFutureEither(Map(\"num\"->\"4\"))"
   ]
  },
  {
   "cell_type": "code",
   "execution_count": null,
   "metadata": {
    "slideshow": {
     "slide_type": "slide"
    }
   },
   "outputs": [],
   "source": [
    "case class FutureEither[E,A](value: Future[Either[E,A]]) {\n",
    "  def map[B](f: A => B): FutureEither[E,B] =\n",
    "    FutureEither(value.map(_.map(f)))\n",
    "  def flatMap[B](f: A => FutureEither[E,B]): FutureEither[E,B] = FutureEither(value.flatMap {\n",
    "    case Right(r) => f(r).value\n",
    "    case Left(l) => Future.successful(Left[E,B](l))\n",
    "  })\n",
    "}"
   ]
  },
  {
   "cell_type": "code",
   "execution_count": null,
   "metadata": {
    "slideshow": {
     "slide_type": "fragment"
    }
   },
   "outputs": [],
   "source": [
    "def processFutureEither(params: Params) = for {\n",
    "  param <- FutureEither(extractFutureEither(params))\n",
    "  num <- FutureEither(parseFutureEither(param))\n",
    "  r <- FutureEither(reciprocalFutureEither(num))\n",
    "} yield r\n",
    "processFutureEither(Map(\"num\"->\"2\"))"
   ]
  },
  {
   "cell_type": "code",
   "execution_count": null,
   "metadata": {
    "slideshow": {
     "slide_type": "fragment"
    }
   },
   "outputs": [],
   "source": [
    "processFutureEither(Map(\"num\" -> \"6\"))"
   ]
  },
  {
   "cell_type": "code",
   "execution_count": null,
   "metadata": {
    "slideshow": {
     "slide_type": "slide"
    }
   },
   "outputs": [],
   "source": [
    "case class ListEither[E,A](value: List[Either[E,A]]) {\n",
    "  def map[B](f: A => B): ListEither[E,B] =\n",
    "    ListEither(value.map(_.map(f)))\n",
    "  def flatMap[B](f: A => ListEither[E,B]): ListEither[E,B] = ListEither(value.flatMap {\n",
    "    case Right(r) => f(r).value\n",
    "    case Left(l) => List(Left[E,B](l))\n",
    "  })\n",
    "}"
   ]
  },
  {
   "cell_type": "code",
   "execution_count": null,
   "metadata": {
    "slideshow": {
     "slide_type": "fragment"
    }
   },
   "outputs": [],
   "source": [
    "import cats.data.EitherT\n",
    "def processEitherT(params: Params) = for {\n",
    "  param <- EitherT(extractFutureEither(params))\n",
    "  num <- EitherT(parseFutureEither(param))\n",
    "  r <- EitherT(reciprocalFutureEither(num))\n",
    "} yield r\n",
    "processEitherT(Map(\"num\"->\"4\"))"
   ]
  },
  {
   "cell_type": "code",
   "execution_count": null,
   "metadata": {
    "slideshow": {
     "slide_type": "fragment"
    }
   },
   "outputs": [],
   "source": [
    "processEitherT(Map(\"num\"->\"5\")).value"
   ]
  }
 ],
 "metadata": {
  "celltoolbar": "Slideshow",
  "kernelspec": {
   "display_name": "Scala",
   "language": "scala",
   "name": "scala"
  },
  "language_info": {
   "codemirror_mode": "text/x-scala",
   "file_extension": ".sc",
   "mimetype": "text/x-scala",
   "name": "scala",
   "nbconvert_exporter": "script",
   "version": "2.13.5"
  }
 },
 "nbformat": 4,
 "nbformat_minor": 2
}
